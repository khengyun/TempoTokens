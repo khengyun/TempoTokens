{
 "cells": [
  {
   "cell_type": "code",
   "execution_count": 43,
   "metadata": {},
   "outputs": [],
   "source": [
    "import requests\n",
    "import random\n",
    "import yt_dlp\n",
    "import pandas as pd\n",
    "import threading\n",
    "import time\n",
    "from concurrent.futures import ThreadPoolExecutor\n",
    "import socket\n",
    "\n",
    "\n",
    "# URLs để tải proxy và file CSV\n",
    "PROXY_FILES = {\n",
    "    \"http\": \"https://raw.githubusercontent.com/r00tee/Proxy-List/main/Https.txt\",\n",
    "    \"socks4\": \"https://raw.githubusercontent.com/r00tee/Proxy-List/main/Socks4.txt\",\n",
    "    \"socks5\": \"https://raw.githubusercontent.com/r00tee/Proxy-List/main/Socks5.txt\"\n",
    "}\n",
    "\n",
    "CSV_URL = \"https://huggingface.co/datasets/Loie/VGGSound/resolve/main/vggsound.csv\"\n",
    "\n",
    "# Cấu hình yt-dlp\n",
    "ydl_opts = {\n",
    "    'outtmpl': './videos/%(id)s.%(ext)s',\n",
    "    'format': 'bestvideo+bestaudio/best',\n",
    "    'socket_timeout': 60,  # Tăng timeout lên 60 giây\n",
    "    'http_chunk_size': 1048576,  # Giảm tải từng phần nhỏ\n",
    "}"
   ]
  },
  {
   "cell_type": "code",
   "execution_count": 44,
   "metadata": {},
   "outputs": [],
   "source": [
    "# Tải file CSV\n",
    "def load_video_data(csv_url):\n",
    "    df = pd.read_csv(csv_url)\n",
    "    df.columns = ['YouTube ID', 'start_seconds', 'label', 'split']\n",
    "    return df['YouTube ID'].tolist()\n",
    "\n",
    "# Tải danh sách proxy từ URL\n",
    "def get_proxy_list(proxy_url):\n",
    "    try:\n",
    "        response = requests.get(proxy_url)\n",
    "        response.raise_for_status()\n",
    "        proxies = response.text.splitlines()\n",
    "        proxies = [proxy.strip() for proxy in proxies if proxy.strip()]\n",
    "        return proxies\n",
    "    except Exception as e:\n",
    "        print(f\"Lỗi khi tải proxy từ {proxy_url}: {e}\")\n",
    "        return []\n",
    "\n",
    "# Kiểm tra proxy\n",
    "def check_proxy(proxy):\n",
    "    try:\n",
    "        host, port = proxy.split(':')\n",
    "        socket.create_connection((host, int(port)), timeout=5)\n",
    "        return True\n",
    "    except:\n",
    "        return False\n",
    "\n",
    "# Tải video từ YouTube với proxy\n",
    "def download_video_with_proxy(video_id, proxies):\n",
    "    url = f\"https://www.youtube.com/watch?v={video_id}\"\n",
    "    while True:\n",
    "        try:\n",
    "            # Chọn proxy ngẫu nhiên\n",
    "            proxy = random.choice(proxies)\n",
    "            print(f\"Đang thử proxy: {proxy}\")\n",
    "            ydl_opts['proxy'] = proxy\n",
    "            # Tải video\n",
    "            with yt_dlp.YoutubeDL(ydl_opts) as ydl:\n",
    "                ydl.download([url])\n",
    "            print(f\"Đã tải thành công video: {video_id}\")\n",
    "            break\n",
    "        except Exception as e:\n",
    "            print(f\"Lỗi khi tải video {video_id} với proxy {proxy}: {e}\")\n",
    "            time.sleep(5)  # Chờ trước khi thử lại\n",
    "\n",
    "# Cập nhật proxy tự động mỗi 5 phút\n",
    "def update_proxies(proxy_type, proxy_list):\n",
    "    while True:\n",
    "        print(f\"Đang cập nhật proxy {proxy_type}...\")\n",
    "        new_proxies = get_proxy_list(PROXY_FILES[proxy_type])\n",
    "        if new_proxies:\n",
    "            proxy_list.clear()\n",
    "            proxy_list.extend(new_proxies)\n",
    "            print(f\"Đã cập nhật {len(new_proxies)} proxy {proxy_type}.\")\n",
    "        else:\n",
    "            print(f\"Không thể tải proxy {proxy_type}.\")\n",
    "        time.sleep(300)  # Cập nhật mỗi 5 phút"
   ]
  },
  {
   "cell_type": "code",
   "execution_count": null,
   "metadata": {},
   "outputs": [
    {
     "name": "stdout",
     "output_type": "stream",
     "text": [
      "Đang thử proxy: 196.20.125.121:8083Lỗi khi tải video --96EN9NUQM với proxy 196.20.125.121:8083: Socket operation on non-socket\n",
      "Đang thử proxy: 210.201.86.72:8080Lỗi khi tải video --96EN9NUQM với proxy 210.201.86.72:8080: Socket operation on non-socket\n",
      "Đang thử proxy: 198.55.103.153:5672Lỗi khi tải video --96EN9NUQM với proxy 198.55.103.153:5672: Socket operation on non-socket\n",
      "Đang thử proxy: 110.171.40.132:8080Lỗi khi tải video --96EN9NUQM với proxy 110.171.40.132:8080: Socket operation on non-socket\n",
      "Đang thử proxy: 138.68.235.51:80Lỗi khi tải video --96EN9NUQM với proxy 138.68.235.51:80: Socket operation on non-socket\n"
     ]
    },
    {
     "name": "stderr",
     "output_type": "stream",
     "text": [
      "WARNING: [youtube] Unable to download webpage: ('Unable to connect to proxy', ConnectTimeoutError(<urllib3.connection.HTTPSConnection object at 0x7fdee1101ee0>, 'Connection to 160.20.165.230 timed out. (connect timeout=60.0)'))\n"
     ]
    },
    {
     "name": "stdout",
     "output_type": "stream",
     "text": [
      "[youtube] --56QUhyDQM: Downloading mweb player API JSON\n",
      "Đang thử proxy: 8.215.15.163:8008Lỗi khi tải video --96EN9NUQM với proxy 8.215.15.163:8008: Socket operation on non-socket\n"
     ]
    },
    {
     "name": "stderr",
     "output_type": "stream",
     "text": [
      "WARNING: [youtube] ('Unable to connect to proxy', ConnectTimeoutError(<urllib3.connection.HTTPSConnection object at 0x7fdee19de0f0>, 'Connection to 103.255.222.1 timed out. (connect timeout=60.0)')). Retrying (2/3)...\n"
     ]
    },
    {
     "name": "stdout",
     "output_type": "stream",
     "text": [
      "[youtube] --0PQM4-hqg: Downloading ios player API JSON\n"
     ]
    },
    {
     "name": "stderr",
     "output_type": "stream",
     "text": [
      "WARNING: [youtube] --56QUhyDQM: Cannot decrypt nsig without player_url: Some formats may be missing\n"
     ]
    },
    {
     "name": "stdout",
     "output_type": "stream",
     "text": [
      "Đang thử proxy: 185.170.233.103:47574Lỗi khi tải video --96EN9NUQM với proxy 185.170.233.103:47574: Socket operation on non-socket\n",
      "[youtube] --56QUhyDQM: Downloading initial data API JSON\n"
     ]
    },
    {
     "name": "stderr",
     "output_type": "stream",
     "text": [
      "WARNING: Only images are available for download. use --list-formats to see them\n",
      "ERROR: [youtube] --56QUhyDQM: Requested format is not available. Use --list-formats for a list of available formats\n"
     ]
    },
    {
     "name": "stdout",
     "output_type": "stream",
     "text": [
      "Lỗi khi tải video --56QUhyDQM với proxy 160.20.165.230:8587: ERROR: [youtube] --56QUhyDQM: Requested format is not available. Use --list-formats for a list of available formats\n",
      "Đang thử proxy: 67.201.58.190:4145Lỗi khi tải video --96EN9NUQM với proxy 67.201.58.190:4145: Socket operation on non-socket\n",
      "Đang thử proxy: 103.247.14.103:1111\n",
      "[youtube] Extracting URL: https://www.youtube.com/watch?v=--56QUhyDQM\n",
      "[youtube] --56QUhyDQM: Downloading webpage\n",
      "Đang thử proxy: 103.189.249.210:8080Lỗi khi tải video --96EN9NUQM với proxy 103.189.249.210:8080: Socket operation on non-socket\n"
     ]
    },
    {
     "name": "stderr",
     "output_type": "stream",
     "text": [
      "WARNING: [youtube] ('Unable to connect to proxy', ConnectTimeoutError(<urllib3.connection.HTTPSConnection object at 0x7fdee1749490>, 'Connection to 1.54.41.231 timed out. (connect timeout=60.0)')). Retrying (3/3)...\n"
     ]
    },
    {
     "name": "stdout",
     "output_type": "stream",
     "text": [
      "[youtube] --8puiAGLhs: Downloading mweb player API JSON\n",
      "Đang thử proxy: 13.80.134.180:80Lỗi khi tải video --96EN9NUQM với proxy 13.80.134.180:80: Socket operation on non-socket\n",
      "Đang thử proxy: 80.26.56.66:4153\n",
      "[youtube] Extracting URL: https://www.youtube.com/watch?v=--5OkAjCI7g\n",
      "[youtube] --5OkAjCI7g: Downloading webpage\n",
      "Đang thử proxy: 121.101.133.81:1111Lỗi khi tải video --96EN9NUQM với proxy 121.101.133.81:1111: Socket operation on non-socket\n",
      "Đang thử proxy: 20.120.225.109:3128Lỗi khi tải video --96EN9NUQM với proxy 20.120.225.109:3128: Socket operation on non-socket\n"
     ]
    },
    {
     "name": "stderr",
     "output_type": "stream",
     "text": [
      "WARNING: [youtube] Unable to download webpage: ('Unable to connect to proxy', ConnectTimeoutError(<urllib3.connection.HTTPSConnection object at 0x7fdf24d752b0>, 'Connection to 103.247.14.103 timed out. (connect timeout=20.0)'))\n"
     ]
    },
    {
     "name": "stdout",
     "output_type": "stream",
     "text": [
      "[youtube] --56QUhyDQM: Downloading ios player API JSON\n",
      "Đang thử proxy: 103.106.231.188:42020Lỗi khi tải video --96EN9NUQM với proxy 103.106.231.188:42020: Socket operation on non-socket\n"
     ]
    }
   ],
   "source": [
    "# Tải video đa luồng\n",
    "def main():\n",
    "    proxy_type = \"http\"  # Chọn loại proxy (http, socks4, socks5)\n",
    "    proxy_list = get_proxy_list(PROXY_FILES[proxy_type])\n",
    "\n",
    "    if not proxy_list:\n",
    "        print(\"Không thể tải danh sách proxy. Dừng chương trình.\")\n",
    "        return\n",
    "\n",
    "    # Tải danh sách video từ CSV\n",
    "    videos = load_video_data(CSV_URL)\n",
    "\n",
    "    # Luồng cập nhật proxy\n",
    "    threading.Thread(target=update_proxies, args=(proxy_type, proxy_list), daemon=True).start()\n",
    "\n",
    "    # Tải video đa luồng\n",
    "    with ThreadPoolExecutor(max_workers=5) as executor:  # Tăng max_workers để tải nhiều video hơn\n",
    "        for video_id in videos[:10]:  # Tải 10 video đầu tiên\n",
    "            executor.submit(download_video_with_proxy, video_id, proxy_list)\n",
    "\n",
    "if __name__ == \"__main__\":\n",
    "    main()"
   ]
  },
  {
   "cell_type": "code",
   "execution_count": 46,
   "metadata": {},
   "outputs": [
    {
     "name": "stdout",
     "output_type": "stream",
     "text": [
      "[youtube] Extracting URL: https://www.youtube.com/watch?v=--96EN9NUQM\n",
      "[youtube] --96EN9NUQM: Downloading webpage\n"
     ]
    },
    {
     "name": "stderr",
     "output_type": "stream",
     "text": [
      "WARNING: [youtube] Unable to download webpage: ('Connection aborted.', RemoteDisconnected('Remote end closed connection without response'))\n"
     ]
    },
    {
     "name": "stdout",
     "output_type": "stream",
     "text": [
      "[youtube] --96EN9NUQM: Downloading ios player API JSON\n"
     ]
    },
    {
     "name": "stderr",
     "output_type": "stream",
     "text": [
      "WARNING: [youtube] ('Connection aborted.', ConnectionResetError(104, 'Connection reset by peer')). Retrying (1/3)...\n"
     ]
    },
    {
     "name": "stdout",
     "output_type": "stream",
     "text": [
      "[youtube] --96EN9NUQM: Downloading ios player API JSON\n"
     ]
    },
    {
     "name": "stderr",
     "output_type": "stream",
     "text": [
      "WARNING: [youtube] ('Connection aborted.', ConnectionResetError(104, 'Connection reset by peer')). Retrying (2/3)...\n"
     ]
    },
    {
     "name": "stdout",
     "output_type": "stream",
     "text": [
      "[youtube] --96EN9NUQM: Downloading ios player API JSON\n"
     ]
    },
    {
     "name": "stderr",
     "output_type": "stream",
     "text": [
      "WARNING: [youtube] ('Connection aborted.', RemoteDisconnected('Remote end closed connection without response')). Retrying (3/3)...\n"
     ]
    },
    {
     "name": "stdout",
     "output_type": "stream",
     "text": [
      "[youtube] --96EN9NUQM: Downloading ios player API JSON\n"
     ]
    },
    {
     "name": "stderr",
     "output_type": "stream",
     "text": [
      "WARNING: [youtube] Unable to download API page: ('Connection aborted.', ConnectionResetError(104, 'Connection reset by peer')) (caused by TransportError(\"('Connection aborted.', ConnectionResetError(104, 'Connection reset by peer'))\"))\n"
     ]
    },
    {
     "name": "stdout",
     "output_type": "stream",
     "text": [
      "[youtube] --96EN9NUQM: Downloading iframe API JS\n"
     ]
    },
    {
     "name": "stderr",
     "output_type": "stream",
     "text": [
      "WARNING: [youtube] Unable to download webpage: ('Connection aborted.', ConnectionResetError(104, 'Connection reset by peer'))\n"
     ]
    },
    {
     "name": "stdout",
     "output_type": "stream",
     "text": [
      "[youtube] --96EN9NUQM: Downloading mweb player API JSON\n"
     ]
    },
    {
     "name": "stderr",
     "output_type": "stream",
     "text": [
      "WARNING: [youtube] ('Connection aborted.', RemoteDisconnected('Remote end closed connection without response')). Retrying (1/3)...\n"
     ]
    },
    {
     "name": "stdout",
     "output_type": "stream",
     "text": [
      "[youtube] --96EN9NUQM: Downloading mweb player API JSON\n"
     ]
    },
    {
     "name": "stderr",
     "output_type": "stream",
     "text": [
      "WARNING: [youtube] ('Connection aborted.', ConnectionResetError(104, 'Connection reset by peer')). Retrying (2/3)...\n"
     ]
    },
    {
     "name": "stdout",
     "output_type": "stream",
     "text": [
      "[youtube] --96EN9NUQM: Downloading mweb player API JSON\n"
     ]
    },
    {
     "name": "stderr",
     "output_type": "stream",
     "text": [
      "WARNING: [youtube] ('Connection aborted.', RemoteDisconnected('Remote end closed connection without response')). Retrying (3/3)...\n"
     ]
    },
    {
     "name": "stdout",
     "output_type": "stream",
     "text": [
      "[youtube] --96EN9NUQM: Downloading mweb player API JSON\n"
     ]
    },
    {
     "name": "stderr",
     "output_type": "stream",
     "text": [
      "WARNING: [youtube] Unable to download API page: ('Unable to connect to proxy', ConnectTimeoutError(<urllib3.connection.HTTPSConnection object at 0x7fdf23dba030>, 'Connection to 220.167.233.129 timed out. (connect timeout=60.0)')) (caused by ProxyError(\"('Unable to connect to proxy', ConnectTimeoutError(<urllib3.connection.HTTPSConnection object at 0x7fdf23dba030>, 'Connection to 220.167.233.129 timed out. (connect timeout=60.0)'))\")); please report this issue on  https://github.com/yt-dlp/yt-dlp/issues?q= , filling out the appropriate issue template. Confirm you are on the latest version using  yt-dlp -U\n",
      "ERROR: [youtube] --5OkAjCI7g: Failed to extract any player response; please report this issue on  https://github.com/yt-dlp/yt-dlp/issues?q= , filling out the appropriate issue template. Confirm you are on the latest version using  yt-dlp -U\n"
     ]
    },
    {
     "name": "stdout",
     "output_type": "stream",
     "text": [
      "Lỗi khi tải video --5OkAjCI7g với proxy 220.167.233.129:8118: ERROR: [youtube] --5OkAjCI7g: Failed to extract any player response; please report this issue on  https://github.com/yt-dlp/yt-dlp/issues?q= , filling out the appropriate issue template. Confirm you are on the latest version using  yt-dlp -U\n"
     ]
    },
    {
     "name": "stderr",
     "output_type": "stream",
     "text": [
      "WARNING: [youtube] Unable to download API page: ('Connection aborted.', ConnectionResetError(104, 'Connection reset by peer')) (caused by TransportError(\"('Connection aborted.', ConnectionResetError(104, 'Connection reset by peer'))\"))\n",
      "ERROR: [youtube] --96EN9NUQM: Failed to extract any player response; please report this issue on  https://github.com/yt-dlp/yt-dlp/issues?q= , filling out the appropriate issue template. Confirm you are on the latest version using  yt-dlp -U\n"
     ]
    },
    {
     "ename": "DownloadError",
     "evalue": "ERROR: [youtube] --96EN9NUQM: Failed to extract any player response; please report this issue on  https://github.com/yt-dlp/yt-dlp/issues?q= , filling out the appropriate issue template. Confirm you are on the latest version using  yt-dlp -U",
     "output_type": "error",
     "traceback": [
      "\u001b[0;31m---------------------------------------------------------------------------\u001b[0m",
      "\u001b[0;31mExtractorError\u001b[0m                            Traceback (most recent call last)",
      "File \u001b[0;32m~/Documents/TempoTokens/.venv/lib/python3.12/site-packages/yt_dlp/YoutubeDL.py:1634\u001b[0m, in \u001b[0;36mYoutubeDL._handle_extraction_exceptions.<locals>.wrapper\u001b[0;34m(self, *args, **kwargs)\u001b[0m\n\u001b[1;32m   1633\u001b[0m \u001b[38;5;28;01mtry\u001b[39;00m:\n\u001b[0;32m-> 1634\u001b[0m     \u001b[38;5;28;01mreturn\u001b[39;00m \u001b[43mfunc\u001b[49m\u001b[43m(\u001b[49m\u001b[38;5;28;43mself\u001b[39;49m\u001b[43m,\u001b[49m\u001b[43m \u001b[49m\u001b[38;5;241;43m*\u001b[39;49m\u001b[43margs\u001b[49m\u001b[43m,\u001b[49m\u001b[43m \u001b[49m\u001b[38;5;241;43m*\u001b[39;49m\u001b[38;5;241;43m*\u001b[39;49m\u001b[43mkwargs\u001b[49m\u001b[43m)\u001b[49m\n\u001b[1;32m   1635\u001b[0m \u001b[38;5;28;01mexcept\u001b[39;00m (CookieLoadError, DownloadCancelled, LazyList\u001b[38;5;241m.\u001b[39mIndexError, PagedList\u001b[38;5;241m.\u001b[39mIndexError):\n",
      "File \u001b[0;32m~/Documents/TempoTokens/.venv/lib/python3.12/site-packages/yt_dlp/YoutubeDL.py:1769\u001b[0m, in \u001b[0;36mYoutubeDL.__extract_info\u001b[0;34m(self, url, ie, download, extra_info, process)\u001b[0m\n\u001b[1;32m   1768\u001b[0m \u001b[38;5;28;01mtry\u001b[39;00m:\n\u001b[0;32m-> 1769\u001b[0m     ie_result \u001b[38;5;241m=\u001b[39m \u001b[43mie\u001b[49m\u001b[38;5;241;43m.\u001b[39;49m\u001b[43mextract\u001b[49m\u001b[43m(\u001b[49m\u001b[43murl\u001b[49m\u001b[43m)\u001b[49m\n\u001b[1;32m   1770\u001b[0m \u001b[38;5;28;01mexcept\u001b[39;00m UserNotLive \u001b[38;5;28;01mas\u001b[39;00m e:\n",
      "File \u001b[0;32m~/Documents/TempoTokens/.venv/lib/python3.12/site-packages/yt_dlp/extractor/common.py:742\u001b[0m, in \u001b[0;36mInfoExtractor.extract\u001b[0;34m(self, url)\u001b[0m\n\u001b[1;32m    740\u001b[0m \u001b[38;5;28mself\u001b[39m\u001b[38;5;241m.\u001b[39mto_screen(\u001b[38;5;124m'\u001b[39m\u001b[38;5;124mExtracting URL: \u001b[39m\u001b[38;5;132;01m%s\u001b[39;00m\u001b[38;5;124m'\u001b[39m \u001b[38;5;241m%\u001b[39m (\n\u001b[1;32m    741\u001b[0m     url \u001b[38;5;28;01mif\u001b[39;00m \u001b[38;5;28mself\u001b[39m\u001b[38;5;241m.\u001b[39mget_param(\u001b[38;5;124m'\u001b[39m\u001b[38;5;124mverbose\u001b[39m\u001b[38;5;124m'\u001b[39m) \u001b[38;5;28;01melse\u001b[39;00m truncate_string(url, \u001b[38;5;241m100\u001b[39m, \u001b[38;5;241m20\u001b[39m)))\n\u001b[0;32m--> 742\u001b[0m ie_result \u001b[38;5;241m=\u001b[39m \u001b[38;5;28;43mself\u001b[39;49m\u001b[38;5;241;43m.\u001b[39;49m\u001b[43m_real_extract\u001b[49m\u001b[43m(\u001b[49m\u001b[43murl\u001b[49m\u001b[43m)\u001b[49m\n\u001b[1;32m    743\u001b[0m \u001b[38;5;28;01mif\u001b[39;00m ie_result \u001b[38;5;129;01mis\u001b[39;00m \u001b[38;5;28;01mNone\u001b[39;00m:\n",
      "File \u001b[0;32m~/Documents/TempoTokens/.venv/lib/python3.12/site-packages/yt_dlp/extractor/youtube.py:4435\u001b[0m, in \u001b[0;36mYoutubeIE._real_extract\u001b[0;34m(self, url)\u001b[0m\n\u001b[1;32m   4433\u001b[0m webpage_url \u001b[38;5;241m=\u001b[39m base_url \u001b[38;5;241m+\u001b[39m \u001b[38;5;124m'\u001b[39m\u001b[38;5;124mwatch?v=\u001b[39m\u001b[38;5;124m'\u001b[39m \u001b[38;5;241m+\u001b[39m video_id\n\u001b[0;32m-> 4435\u001b[0m webpage, master_ytcfg, player_responses, player_url \u001b[38;5;241m=\u001b[39m \u001b[38;5;28;43mself\u001b[39;49m\u001b[38;5;241;43m.\u001b[39;49m\u001b[43m_download_player_responses\u001b[49m\u001b[43m(\u001b[49m\u001b[43murl\u001b[49m\u001b[43m,\u001b[49m\u001b[43m \u001b[49m\u001b[43msmuggled_data\u001b[49m\u001b[43m,\u001b[49m\u001b[43m \u001b[49m\u001b[43mvideo_id\u001b[49m\u001b[43m,\u001b[49m\u001b[43m \u001b[49m\u001b[43mwebpage_url\u001b[49m\u001b[43m)\u001b[49m\n\u001b[1;32m   4437\u001b[0m playability_statuses \u001b[38;5;241m=\u001b[39m traverse_obj(\n\u001b[1;32m   4438\u001b[0m     player_responses, (\u001b[38;5;241m.\u001b[39m\u001b[38;5;241m.\u001b[39m\u001b[38;5;241m.\u001b[39m, \u001b[38;5;124m'\u001b[39m\u001b[38;5;124mplayabilityStatus\u001b[39m\u001b[38;5;124m'\u001b[39m), expected_type\u001b[38;5;241m=\u001b[39m\u001b[38;5;28mdict\u001b[39m)\n",
      "File \u001b[0;32m~/Documents/TempoTokens/.venv/lib/python3.12/site-packages/yt_dlp/extractor/youtube.py:4399\u001b[0m, in \u001b[0;36mYoutubeIE._download_player_responses\u001b[0;34m(self, url, smuggled_data, video_id, webpage_url)\u001b[0m\n\u001b[1;32m   4397\u001b[0m master_ytcfg \u001b[38;5;241m=\u001b[39m \u001b[38;5;28mself\u001b[39m\u001b[38;5;241m.\u001b[39mextract_ytcfg(video_id, webpage) \u001b[38;5;129;01mor\u001b[39;00m \u001b[38;5;28mself\u001b[39m\u001b[38;5;241m.\u001b[39m_get_default_ytcfg()\n\u001b[0;32m-> 4399\u001b[0m player_responses, player_url \u001b[38;5;241m=\u001b[39m \u001b[38;5;28;43mself\u001b[39;49m\u001b[38;5;241;43m.\u001b[39;49m\u001b[43m_extract_player_responses\u001b[49m\u001b[43m(\u001b[49m\n\u001b[1;32m   4400\u001b[0m \u001b[43m    \u001b[49m\u001b[38;5;28;43mself\u001b[39;49m\u001b[38;5;241;43m.\u001b[39;49m\u001b[43m_get_requested_clients\u001b[49m\u001b[43m(\u001b[49m\u001b[43murl\u001b[49m\u001b[43m,\u001b[49m\u001b[43m \u001b[49m\u001b[43msmuggled_data\u001b[49m\u001b[43m)\u001b[49m\u001b[43m,\u001b[49m\n\u001b[1;32m   4401\u001b[0m \u001b[43m    \u001b[49m\u001b[43mvideo_id\u001b[49m\u001b[43m,\u001b[49m\u001b[43m \u001b[49m\u001b[43mwebpage\u001b[49m\u001b[43m,\u001b[49m\u001b[43m \u001b[49m\u001b[43mmaster_ytcfg\u001b[49m\u001b[43m,\u001b[49m\u001b[43m \u001b[49m\u001b[43msmuggled_data\u001b[49m\u001b[43m)\u001b[49m\n\u001b[1;32m   4403\u001b[0m \u001b[38;5;28;01mreturn\u001b[39;00m webpage, master_ytcfg, player_responses, player_url\n",
      "File \u001b[0;32m~/Documents/TempoTokens/.venv/lib/python3.12/site-packages/yt_dlp/extractor/youtube.py:4042\u001b[0m, in \u001b[0;36mYoutubeIE._extract_player_responses\u001b[0;34m(self, clients, video_id, webpage, master_ytcfg, smuggled_data)\u001b[0m\n\u001b[1;32m   4041\u001b[0m \u001b[38;5;28;01melif\u001b[39;00m \u001b[38;5;129;01mnot\u001b[39;00m prs:\n\u001b[0;32m-> 4042\u001b[0m     \u001b[38;5;28;01mraise\u001b[39;00m ExtractorError(\u001b[38;5;124m'\u001b[39m\u001b[38;5;124mFailed to extract any player response\u001b[39m\u001b[38;5;124m'\u001b[39m)\n\u001b[1;32m   4043\u001b[0m \u001b[38;5;28;01mreturn\u001b[39;00m prs, player_url\n",
      "\u001b[0;31mExtractorError\u001b[0m: [youtube] --96EN9NUQM: Failed to extract any player response; please report this issue on  https://github.com/yt-dlp/yt-dlp/issues?q= , filling out the appropriate issue template. Confirm you are on the latest version using  yt-dlp -U",
      "\nDuring handling of the above exception, another exception occurred:\n",
      "\u001b[0;31mDownloadError\u001b[0m                             Traceback (most recent call last)",
      "Cell \u001b[0;32mIn[46], line 18\u001b[0m\n\u001b[1;32m     16\u001b[0m \u001b[38;5;66;03m# Tải video\u001b[39;00m\n\u001b[1;32m     17\u001b[0m \u001b[38;5;28;01mwith\u001b[39;00m yt_dlp\u001b[38;5;241m.\u001b[39mYoutubeDL(ydl_opts) \u001b[38;5;28;01mas\u001b[39;00m ydl:\n\u001b[0;32m---> 18\u001b[0m     \u001b[43mydl\u001b[49m\u001b[38;5;241;43m.\u001b[39;49m\u001b[43mdownload\u001b[49m\u001b[43m(\u001b[49m\u001b[43m[\u001b[49m\u001b[43murl\u001b[49m\u001b[43m]\u001b[49m\u001b[43m)\u001b[49m\n\u001b[1;32m     19\u001b[0m \u001b[38;5;28mprint\u001b[39m(\u001b[38;5;124m\"\u001b[39m\u001b[38;5;124mTải video thành công!\u001b[39m\u001b[38;5;124m\"\u001b[39m)\n",
      "File \u001b[0;32m~/Documents/TempoTokens/.venv/lib/python3.12/site-packages/yt_dlp/YoutubeDL.py:3615\u001b[0m, in \u001b[0;36mYoutubeDL.download\u001b[0;34m(self, url_list)\u001b[0m\n\u001b[1;32m   3612\u001b[0m     \u001b[38;5;28;01mraise\u001b[39;00m SameFileError(outtmpl)\n\u001b[1;32m   3614\u001b[0m \u001b[38;5;28;01mfor\u001b[39;00m url \u001b[38;5;129;01min\u001b[39;00m url_list:\n\u001b[0;32m-> 3615\u001b[0m     \u001b[38;5;28;43mself\u001b[39;49m\u001b[38;5;241;43m.\u001b[39;49m\u001b[43m__download_wrapper\u001b[49m\u001b[43m(\u001b[49m\u001b[38;5;28;43mself\u001b[39;49m\u001b[38;5;241;43m.\u001b[39;49m\u001b[43mextract_info\u001b[49m\u001b[43m)\u001b[49m\u001b[43m(\u001b[49m\n\u001b[1;32m   3616\u001b[0m \u001b[43m        \u001b[49m\u001b[43murl\u001b[49m\u001b[43m,\u001b[49m\u001b[43m \u001b[49m\u001b[43mforce_generic_extractor\u001b[49m\u001b[38;5;241;43m=\u001b[39;49m\u001b[38;5;28;43mself\u001b[39;49m\u001b[38;5;241;43m.\u001b[39;49m\u001b[43mparams\u001b[49m\u001b[38;5;241;43m.\u001b[39;49m\u001b[43mget\u001b[49m\u001b[43m(\u001b[49m\u001b[38;5;124;43m'\u001b[39;49m\u001b[38;5;124;43mforce_generic_extractor\u001b[39;49m\u001b[38;5;124;43m'\u001b[39;49m\u001b[43m,\u001b[49m\u001b[43m \u001b[49m\u001b[38;5;28;43;01mFalse\u001b[39;49;00m\u001b[43m)\u001b[49m\u001b[43m)\u001b[49m\n\u001b[1;32m   3618\u001b[0m \u001b[38;5;28;01mreturn\u001b[39;00m \u001b[38;5;28mself\u001b[39m\u001b[38;5;241m.\u001b[39m_download_retcode\n",
      "File \u001b[0;32m~/Documents/TempoTokens/.venv/lib/python3.12/site-packages/yt_dlp/YoutubeDL.py:3588\u001b[0m, in \u001b[0;36mYoutubeDL.__download_wrapper.<locals>.wrapper\u001b[0;34m(*args, **kwargs)\u001b[0m\n\u001b[1;32m   3585\u001b[0m \u001b[38;5;129m@functools\u001b[39m\u001b[38;5;241m.\u001b[39mwraps(func)\n\u001b[1;32m   3586\u001b[0m \u001b[38;5;28;01mdef\u001b[39;00m \u001b[38;5;21mwrapper\u001b[39m(\u001b[38;5;241m*\u001b[39margs, \u001b[38;5;241m*\u001b[39m\u001b[38;5;241m*\u001b[39mkwargs):\n\u001b[1;32m   3587\u001b[0m     \u001b[38;5;28;01mtry\u001b[39;00m:\n\u001b[0;32m-> 3588\u001b[0m         res \u001b[38;5;241m=\u001b[39m \u001b[43mfunc\u001b[49m\u001b[43m(\u001b[49m\u001b[38;5;241;43m*\u001b[39;49m\u001b[43margs\u001b[49m\u001b[43m,\u001b[49m\u001b[43m \u001b[49m\u001b[38;5;241;43m*\u001b[39;49m\u001b[38;5;241;43m*\u001b[39;49m\u001b[43mkwargs\u001b[49m\u001b[43m)\u001b[49m\n\u001b[1;32m   3589\u001b[0m     \u001b[38;5;28;01mexcept\u001b[39;00m CookieLoadError:\n\u001b[1;32m   3590\u001b[0m         \u001b[38;5;28;01mraise\u001b[39;00m\n",
      "File \u001b[0;32m~/Documents/TempoTokens/.venv/lib/python3.12/site-packages/yt_dlp/YoutubeDL.py:1623\u001b[0m, in \u001b[0;36mYoutubeDL.extract_info\u001b[0;34m(self, url, download, ie_key, extra_info, process, force_generic_extractor)\u001b[0m\n\u001b[1;32m   1621\u001b[0m             \u001b[38;5;28;01mraise\u001b[39;00m ExistingVideoReached\n\u001b[1;32m   1622\u001b[0m         \u001b[38;5;28;01mbreak\u001b[39;00m\n\u001b[0;32m-> 1623\u001b[0m     \u001b[38;5;28;01mreturn\u001b[39;00m \u001b[38;5;28;43mself\u001b[39;49m\u001b[38;5;241;43m.\u001b[39;49m\u001b[43m__extract_info\u001b[49m\u001b[43m(\u001b[49m\u001b[43murl\u001b[49m\u001b[43m,\u001b[49m\u001b[43m \u001b[49m\u001b[38;5;28;43mself\u001b[39;49m\u001b[38;5;241;43m.\u001b[39;49m\u001b[43mget_info_extractor\u001b[49m\u001b[43m(\u001b[49m\u001b[43mkey\u001b[49m\u001b[43m)\u001b[49m\u001b[43m,\u001b[49m\u001b[43m \u001b[49m\u001b[43mdownload\u001b[49m\u001b[43m,\u001b[49m\u001b[43m \u001b[49m\u001b[43mextra_info\u001b[49m\u001b[43m,\u001b[49m\u001b[43m \u001b[49m\u001b[43mprocess\u001b[49m\u001b[43m)\u001b[49m\n\u001b[1;32m   1624\u001b[0m \u001b[38;5;28;01melse\u001b[39;00m:\n\u001b[1;32m   1625\u001b[0m     extractors_restricted \u001b[38;5;241m=\u001b[39m \u001b[38;5;28mself\u001b[39m\u001b[38;5;241m.\u001b[39mparams\u001b[38;5;241m.\u001b[39mget(\u001b[38;5;124m'\u001b[39m\u001b[38;5;124mallowed_extractors\u001b[39m\u001b[38;5;124m'\u001b[39m) \u001b[38;5;129;01mnot\u001b[39;00m \u001b[38;5;129;01min\u001b[39;00m (\u001b[38;5;28;01mNone\u001b[39;00m, [\u001b[38;5;124m'\u001b[39m\u001b[38;5;124mdefault\u001b[39m\u001b[38;5;124m'\u001b[39m])\n",
      "File \u001b[0;32m~/Documents/TempoTokens/.venv/lib/python3.12/site-packages/yt_dlp/YoutubeDL.py:1652\u001b[0m, in \u001b[0;36mYoutubeDL._handle_extraction_exceptions.<locals>.wrapper\u001b[0;34m(self, *args, **kwargs)\u001b[0m\n\u001b[1;32m   1650\u001b[0m     \u001b[38;5;28mself\u001b[39m\u001b[38;5;241m.\u001b[39mreport_error(msg)\n\u001b[1;32m   1651\u001b[0m \u001b[38;5;28;01mexcept\u001b[39;00m ExtractorError \u001b[38;5;28;01mas\u001b[39;00m e:  \u001b[38;5;66;03m# An error we somewhat expected\u001b[39;00m\n\u001b[0;32m-> 1652\u001b[0m     \u001b[38;5;28;43mself\u001b[39;49m\u001b[38;5;241;43m.\u001b[39;49m\u001b[43mreport_error\u001b[49m\u001b[43m(\u001b[49m\u001b[38;5;28;43mstr\u001b[39;49m\u001b[43m(\u001b[49m\u001b[43me\u001b[49m\u001b[43m)\u001b[49m\u001b[43m,\u001b[49m\u001b[43m \u001b[49m\u001b[43me\u001b[49m\u001b[38;5;241;43m.\u001b[39;49m\u001b[43mformat_traceback\u001b[49m\u001b[43m(\u001b[49m\u001b[43m)\u001b[49m\u001b[43m)\u001b[49m\n\u001b[1;32m   1653\u001b[0m \u001b[38;5;28;01mexcept\u001b[39;00m \u001b[38;5;167;01mException\u001b[39;00m \u001b[38;5;28;01mas\u001b[39;00m e:\n\u001b[1;32m   1654\u001b[0m     \u001b[38;5;28;01mif\u001b[39;00m \u001b[38;5;28mself\u001b[39m\u001b[38;5;241m.\u001b[39mparams\u001b[38;5;241m.\u001b[39mget(\u001b[38;5;124m'\u001b[39m\u001b[38;5;124mignoreerrors\u001b[39m\u001b[38;5;124m'\u001b[39m):\n",
      "File \u001b[0;32m~/Documents/TempoTokens/.venv/lib/python3.12/site-packages/yt_dlp/YoutubeDL.py:1092\u001b[0m, in \u001b[0;36mYoutubeDL.report_error\u001b[0;34m(self, message, *args, **kwargs)\u001b[0m\n\u001b[1;32m   1087\u001b[0m \u001b[38;5;28;01mdef\u001b[39;00m \u001b[38;5;21mreport_error\u001b[39m(\u001b[38;5;28mself\u001b[39m, message, \u001b[38;5;241m*\u001b[39margs, \u001b[38;5;241m*\u001b[39m\u001b[38;5;241m*\u001b[39mkwargs):\n\u001b[1;32m   1088\u001b[0m \u001b[38;5;250m    \u001b[39m\u001b[38;5;124;03m\"\"\"\u001b[39;00m\n\u001b[1;32m   1089\u001b[0m \u001b[38;5;124;03m    Do the same as trouble, but prefixes the message with 'ERROR:', colored\u001b[39;00m\n\u001b[1;32m   1090\u001b[0m \u001b[38;5;124;03m    in red if stderr is a tty file.\u001b[39;00m\n\u001b[1;32m   1091\u001b[0m \u001b[38;5;124;03m    \"\"\"\u001b[39;00m\n\u001b[0;32m-> 1092\u001b[0m     \u001b[38;5;28;43mself\u001b[39;49m\u001b[38;5;241;43m.\u001b[39;49m\u001b[43mtrouble\u001b[49m\u001b[43m(\u001b[49m\u001b[38;5;124;43mf\u001b[39;49m\u001b[38;5;124;43m'\u001b[39;49m\u001b[38;5;132;43;01m{\u001b[39;49;00m\u001b[38;5;28;43mself\u001b[39;49m\u001b[38;5;241;43m.\u001b[39;49m\u001b[43m_format_err\u001b[49m\u001b[43m(\u001b[49m\u001b[38;5;124;43m\"\u001b[39;49m\u001b[38;5;124;43mERROR:\u001b[39;49m\u001b[38;5;124;43m\"\u001b[39;49m\u001b[43m,\u001b[49m\u001b[38;5;250;43m \u001b[39;49m\u001b[38;5;28;43mself\u001b[39;49m\u001b[38;5;241;43m.\u001b[39;49m\u001b[43mStyles\u001b[49m\u001b[38;5;241;43m.\u001b[39;49m\u001b[43mERROR\u001b[49m\u001b[43m)\u001b[49m\u001b[38;5;132;43;01m}\u001b[39;49;00m\u001b[38;5;124;43m \u001b[39;49m\u001b[38;5;132;43;01m{\u001b[39;49;00m\u001b[43mmessage\u001b[49m\u001b[38;5;132;43;01m}\u001b[39;49;00m\u001b[38;5;124;43m'\u001b[39;49m\u001b[43m,\u001b[49m\u001b[43m \u001b[49m\u001b[38;5;241;43m*\u001b[39;49m\u001b[43margs\u001b[49m\u001b[43m,\u001b[49m\u001b[43m \u001b[49m\u001b[38;5;241;43m*\u001b[39;49m\u001b[38;5;241;43m*\u001b[39;49m\u001b[43mkwargs\u001b[49m\u001b[43m)\u001b[49m\n",
      "File \u001b[0;32m~/Documents/TempoTokens/.venv/lib/python3.12/site-packages/yt_dlp/YoutubeDL.py:1031\u001b[0m, in \u001b[0;36mYoutubeDL.trouble\u001b[0;34m(self, message, tb, is_error)\u001b[0m\n\u001b[1;32m   1029\u001b[0m     \u001b[38;5;28;01melse\u001b[39;00m:\n\u001b[1;32m   1030\u001b[0m         exc_info \u001b[38;5;241m=\u001b[39m sys\u001b[38;5;241m.\u001b[39mexc_info()\n\u001b[0;32m-> 1031\u001b[0m     \u001b[38;5;28;01mraise\u001b[39;00m DownloadError(message, exc_info)\n\u001b[1;32m   1032\u001b[0m \u001b[38;5;28mself\u001b[39m\u001b[38;5;241m.\u001b[39m_download_retcode \u001b[38;5;241m=\u001b[39m \u001b[38;5;241m1\u001b[39m\n",
      "\u001b[0;31mDownloadError\u001b[0m: ERROR: [youtube] --96EN9NUQM: Failed to extract any player response; please report this issue on  https://github.com/yt-dlp/yt-dlp/issues?q= , filling out the appropriate issue template. Confirm you are on the latest version using  yt-dlp -U"
     ]
    }
   ],
   "source": [
    "import yt_dlp\n",
    "\n",
    "# URL video cần tải\n",
    "url = \"https://www.youtube.com/watch?v=--96EN9NUQM\"\n",
    "\n",
    "# Proxy đã chọn\n",
    "selected_proxy = \"93.157.196.58:8080\"  # Thay bằng proxy đã chọn từ bước trên\n",
    "\n",
    "# Cấu hình yt-dlp\n",
    "ydl_opts = {\n",
    "    'outtmpl': './videos/%(id)s.%(ext)s',\n",
    "    'format': 'bestvideo+bestaudio/best',\n",
    "    'proxy': selected_proxy,  # Thêm proxy vào đây\n",
    "}\n",
    "\n",
    "# Tải video\n",
    "with yt_dlp.YoutubeDL(ydl_opts) as ydl:\n",
    "    ydl.download([url])\n",
    "print(\"Tải video thành công!\")\n"
   ]
  }
 ],
 "metadata": {
  "kernelspec": {
   "display_name": ".venv",
   "language": "python",
   "name": "python3"
  },
  "language_info": {
   "codemirror_mode": {
    "name": "ipython",
    "version": 3
   },
   "file_extension": ".py",
   "mimetype": "text/x-python",
   "name": "python",
   "nbconvert_exporter": "python",
   "pygments_lexer": "ipython3",
   "version": "3.12.3"
  }
 },
 "nbformat": 4,
 "nbformat_minor": 2
}
